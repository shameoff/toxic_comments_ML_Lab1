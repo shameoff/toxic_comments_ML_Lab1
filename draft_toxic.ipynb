{
 "cells": [
  {
   "cell_type": "code",
   "execution_count": 53,
   "metadata": {
    "collapsed": true
   },
   "outputs": [],
   "source": [
    "import numpy as np\n",
    "import pandas as pd\n",
    "import matplotlib.pyplot as plt\n",
    "import seaborn as sns\n",
    "\n",
    "from wordcloud import WordCloud ,STOPWORDS\n",
    "from collections import Counter"
   ]
  },
  {
   "cell_type": "code",
   "execution_count": 54,
   "outputs": [],
   "source": [
    "sample_submission = pd.read_csv(\"./data/sample_submission.csv\")\n",
    "train = pd.read_csv(\"./data/train.csv\")\n",
    "test = pd.read_csv(\"./data/test.csv\")"
   ],
   "metadata": {
    "collapsed": false
   }
  },
  {
   "cell_type": "code",
   "execution_count": 55,
   "outputs": [
    {
     "name": "stdout",
     "output_type": "stream",
     "text": [
      "train shape: (159571, 8)\n"
     ]
    },
    {
     "data": {
      "text/plain": "                 id                                       comment_text  toxic  \\\n0  0000997932d777bf  Explanation\\r\\nWhy the edits made under my use...      0   \n1  000103f0d9cfb60f  D'aww! He matches this background colour I'm s...      0   \n2  000113f07ec002fd  Hey man, I'm really not trying to edit war. It...      0   \n3  0001b41b1c6bb37e  \"\\r\\nMore\\r\\nI can't make any real suggestions...      0   \n4  0001d958c54c6e35  You, sir, are my hero. Any chance you remember...      0   \n5  00025465d4725e87  \"\\r\\n\\r\\nCongratulations from me as well, use ...      0   \n6  0002bcb3da6cb337       COCKSUCKER BEFORE YOU PISS AROUND ON MY WORK      1   \n7  00031b1e95af7921  Your vandalism to the Matt Shirvington article...      0   \n8  00037261f536c51d  Sorry if the word 'nonsense' was offensive to ...      0   \n9  00040093b2687caa  alignment on this subject and which are contra...      0   \n\n   severe_toxic  obscene  threat  insult  identity_hate  \n0             0        0       0       0              0  \n1             0        0       0       0              0  \n2             0        0       0       0              0  \n3             0        0       0       0              0  \n4             0        0       0       0              0  \n5             0        0       0       0              0  \n6             1        1       0       1              0  \n7             0        0       0       0              0  \n8             0        0       0       0              0  \n9             0        0       0       0              0  ",
      "text/html": "<div>\n<style scoped>\n    .dataframe tbody tr th:only-of-type {\n        vertical-align: middle;\n    }\n\n    .dataframe tbody tr th {\n        vertical-align: top;\n    }\n\n    .dataframe thead th {\n        text-align: right;\n    }\n</style>\n<table border=\"1\" class=\"dataframe\">\n  <thead>\n    <tr style=\"text-align: right;\">\n      <th></th>\n      <th>id</th>\n      <th>comment_text</th>\n      <th>toxic</th>\n      <th>severe_toxic</th>\n      <th>obscene</th>\n      <th>threat</th>\n      <th>insult</th>\n      <th>identity_hate</th>\n    </tr>\n  </thead>\n  <tbody>\n    <tr>\n      <th>0</th>\n      <td>0000997932d777bf</td>\n      <td>Explanation\\r\\nWhy the edits made under my use...</td>\n      <td>0</td>\n      <td>0</td>\n      <td>0</td>\n      <td>0</td>\n      <td>0</td>\n      <td>0</td>\n    </tr>\n    <tr>\n      <th>1</th>\n      <td>000103f0d9cfb60f</td>\n      <td>D'aww! He matches this background colour I'm s...</td>\n      <td>0</td>\n      <td>0</td>\n      <td>0</td>\n      <td>0</td>\n      <td>0</td>\n      <td>0</td>\n    </tr>\n    <tr>\n      <th>2</th>\n      <td>000113f07ec002fd</td>\n      <td>Hey man, I'm really not trying to edit war. It...</td>\n      <td>0</td>\n      <td>0</td>\n      <td>0</td>\n      <td>0</td>\n      <td>0</td>\n      <td>0</td>\n    </tr>\n    <tr>\n      <th>3</th>\n      <td>0001b41b1c6bb37e</td>\n      <td>\"\\r\\nMore\\r\\nI can't make any real suggestions...</td>\n      <td>0</td>\n      <td>0</td>\n      <td>0</td>\n      <td>0</td>\n      <td>0</td>\n      <td>0</td>\n    </tr>\n    <tr>\n      <th>4</th>\n      <td>0001d958c54c6e35</td>\n      <td>You, sir, are my hero. Any chance you remember...</td>\n      <td>0</td>\n      <td>0</td>\n      <td>0</td>\n      <td>0</td>\n      <td>0</td>\n      <td>0</td>\n    </tr>\n    <tr>\n      <th>5</th>\n      <td>00025465d4725e87</td>\n      <td>\"\\r\\n\\r\\nCongratulations from me as well, use ...</td>\n      <td>0</td>\n      <td>0</td>\n      <td>0</td>\n      <td>0</td>\n      <td>0</td>\n      <td>0</td>\n    </tr>\n    <tr>\n      <th>6</th>\n      <td>0002bcb3da6cb337</td>\n      <td>COCKSUCKER BEFORE YOU PISS AROUND ON MY WORK</td>\n      <td>1</td>\n      <td>1</td>\n      <td>1</td>\n      <td>0</td>\n      <td>1</td>\n      <td>0</td>\n    </tr>\n    <tr>\n      <th>7</th>\n      <td>00031b1e95af7921</td>\n      <td>Your vandalism to the Matt Shirvington article...</td>\n      <td>0</td>\n      <td>0</td>\n      <td>0</td>\n      <td>0</td>\n      <td>0</td>\n      <td>0</td>\n    </tr>\n    <tr>\n      <th>8</th>\n      <td>00037261f536c51d</td>\n      <td>Sorry if the word 'nonsense' was offensive to ...</td>\n      <td>0</td>\n      <td>0</td>\n      <td>0</td>\n      <td>0</td>\n      <td>0</td>\n      <td>0</td>\n    </tr>\n    <tr>\n      <th>9</th>\n      <td>00040093b2687caa</td>\n      <td>alignment on this subject and which are contra...</td>\n      <td>0</td>\n      <td>0</td>\n      <td>0</td>\n      <td>0</td>\n      <td>0</td>\n      <td>0</td>\n    </tr>\n  </tbody>\n</table>\n</div>"
     },
     "execution_count": 55,
     "metadata": {},
     "output_type": "execute_result"
    }
   ],
   "source": [
    "print('train shape:', train.shape)\n",
    "train.head(10)"
   ],
   "metadata": {
    "collapsed": false
   }
  },
  {
   "cell_type": "code",
   "execution_count": 56,
   "outputs": [
    {
     "name": "stdout",
     "output_type": "stream",
     "text": [
      "test shape: (153164, 2)\n"
     ]
    },
    {
     "data": {
      "text/plain": "                 id                                       comment_text  toxic  \\\n0  0000997932d777bf  Explanation\\r\\nWhy the edits made under my use...      0   \n1  000103f0d9cfb60f  D'aww! He matches this background colour I'm s...      0   \n2  000113f07ec002fd  Hey man, I'm really not trying to edit war. It...      0   \n3  0001b41b1c6bb37e  \"\\r\\nMore\\r\\nI can't make any real suggestions...      0   \n4  0001d958c54c6e35  You, sir, are my hero. Any chance you remember...      0   \n\n   severe_toxic  obscene  threat  insult  identity_hate  \n0             0        0       0       0              0  \n1             0        0       0       0              0  \n2             0        0       0       0              0  \n3             0        0       0       0              0  \n4             0        0       0       0              0  ",
      "text/html": "<div>\n<style scoped>\n    .dataframe tbody tr th:only-of-type {\n        vertical-align: middle;\n    }\n\n    .dataframe tbody tr th {\n        vertical-align: top;\n    }\n\n    .dataframe thead th {\n        text-align: right;\n    }\n</style>\n<table border=\"1\" class=\"dataframe\">\n  <thead>\n    <tr style=\"text-align: right;\">\n      <th></th>\n      <th>id</th>\n      <th>comment_text</th>\n      <th>toxic</th>\n      <th>severe_toxic</th>\n      <th>obscene</th>\n      <th>threat</th>\n      <th>insult</th>\n      <th>identity_hate</th>\n    </tr>\n  </thead>\n  <tbody>\n    <tr>\n      <th>0</th>\n      <td>0000997932d777bf</td>\n      <td>Explanation\\r\\nWhy the edits made under my use...</td>\n      <td>0</td>\n      <td>0</td>\n      <td>0</td>\n      <td>0</td>\n      <td>0</td>\n      <td>0</td>\n    </tr>\n    <tr>\n      <th>1</th>\n      <td>000103f0d9cfb60f</td>\n      <td>D'aww! He matches this background colour I'm s...</td>\n      <td>0</td>\n      <td>0</td>\n      <td>0</td>\n      <td>0</td>\n      <td>0</td>\n      <td>0</td>\n    </tr>\n    <tr>\n      <th>2</th>\n      <td>000113f07ec002fd</td>\n      <td>Hey man, I'm really not trying to edit war. It...</td>\n      <td>0</td>\n      <td>0</td>\n      <td>0</td>\n      <td>0</td>\n      <td>0</td>\n      <td>0</td>\n    </tr>\n    <tr>\n      <th>3</th>\n      <td>0001b41b1c6bb37e</td>\n      <td>\"\\r\\nMore\\r\\nI can't make any real suggestions...</td>\n      <td>0</td>\n      <td>0</td>\n      <td>0</td>\n      <td>0</td>\n      <td>0</td>\n      <td>0</td>\n    </tr>\n    <tr>\n      <th>4</th>\n      <td>0001d958c54c6e35</td>\n      <td>You, sir, are my hero. Any chance you remember...</td>\n      <td>0</td>\n      <td>0</td>\n      <td>0</td>\n      <td>0</td>\n      <td>0</td>\n      <td>0</td>\n    </tr>\n  </tbody>\n</table>\n</div>"
     },
     "execution_count": 56,
     "metadata": {},
     "output_type": "execute_result"
    }
   ],
   "source": [
    "print('test shape:', test.shape)\n",
    "train.head()"
   ],
   "metadata": {
    "collapsed": false
   }
  },
  {
   "cell_type": "code",
   "execution_count": 57,
   "outputs": [
    {
     "data": {
      "text/plain": "                 id  toxic  severe_toxic  obscene  threat  insult  \\\n0  00001cee341fdb12    0.5           0.5      0.5     0.5     0.5   \n1  0000247867823ef7    0.5           0.5      0.5     0.5     0.5   \n2  00013b17ad220c46    0.5           0.5      0.5     0.5     0.5   \n3  00017563c3f7919a    0.5           0.5      0.5     0.5     0.5   \n4  00017695ad8997eb    0.5           0.5      0.5     0.5     0.5   \n\n   identity_hate  \n0            0.5  \n1            0.5  \n2            0.5  \n3            0.5  \n4            0.5  ",
      "text/html": "<div>\n<style scoped>\n    .dataframe tbody tr th:only-of-type {\n        vertical-align: middle;\n    }\n\n    .dataframe tbody tr th {\n        vertical-align: top;\n    }\n\n    .dataframe thead th {\n        text-align: right;\n    }\n</style>\n<table border=\"1\" class=\"dataframe\">\n  <thead>\n    <tr style=\"text-align: right;\">\n      <th></th>\n      <th>id</th>\n      <th>toxic</th>\n      <th>severe_toxic</th>\n      <th>obscene</th>\n      <th>threat</th>\n      <th>insult</th>\n      <th>identity_hate</th>\n    </tr>\n  </thead>\n  <tbody>\n    <tr>\n      <th>0</th>\n      <td>00001cee341fdb12</td>\n      <td>0.5</td>\n      <td>0.5</td>\n      <td>0.5</td>\n      <td>0.5</td>\n      <td>0.5</td>\n      <td>0.5</td>\n    </tr>\n    <tr>\n      <th>1</th>\n      <td>0000247867823ef7</td>\n      <td>0.5</td>\n      <td>0.5</td>\n      <td>0.5</td>\n      <td>0.5</td>\n      <td>0.5</td>\n      <td>0.5</td>\n    </tr>\n    <tr>\n      <th>2</th>\n      <td>00013b17ad220c46</td>\n      <td>0.5</td>\n      <td>0.5</td>\n      <td>0.5</td>\n      <td>0.5</td>\n      <td>0.5</td>\n      <td>0.5</td>\n    </tr>\n    <tr>\n      <th>3</th>\n      <td>00017563c3f7919a</td>\n      <td>0.5</td>\n      <td>0.5</td>\n      <td>0.5</td>\n      <td>0.5</td>\n      <td>0.5</td>\n      <td>0.5</td>\n    </tr>\n    <tr>\n      <th>4</th>\n      <td>00017695ad8997eb</td>\n      <td>0.5</td>\n      <td>0.5</td>\n      <td>0.5</td>\n      <td>0.5</td>\n      <td>0.5</td>\n      <td>0.5</td>\n    </tr>\n  </tbody>\n</table>\n</div>"
     },
     "execution_count": 57,
     "metadata": {},
     "output_type": "execute_result"
    }
   ],
   "source": [
    "sample_submission.head()"
   ],
   "metadata": {
    "collapsed": false
   }
  },
  {
   "cell_type": "code",
   "execution_count": 58,
   "outputs": [
    {
     "name": "stdout",
     "output_type": "stream",
     "text": [
      "159571\n"
     ]
    }
   ],
   "source": [
    "print(len(train))"
   ],
   "metadata": {
    "collapsed": false
   }
  },
  {
   "cell_type": "code",
   "execution_count": 59,
   "outputs": [
    {
     "data": {
      "text/plain": "                     id                                       comment_text  \\\n56563  9715b0b10b11cdd3  I know  it's more like I don't appereciate it ...   \n97499  09a4228af625232a  Recipients of the Lithuanian National Prize\\r\\...   \n1005   02bc73f81346f703  Perhaps you should better do self a better job...   \n\n       toxic  severe_toxic  obscene  threat  insult  identity_hate  \n56563      0             0        0       0       0              0  \n97499      0             0        0       0       0              0  \n1005       0             0        0       0       0              0  ",
      "text/html": "<div>\n<style scoped>\n    .dataframe tbody tr th:only-of-type {\n        vertical-align: middle;\n    }\n\n    .dataframe tbody tr th {\n        vertical-align: top;\n    }\n\n    .dataframe thead th {\n        text-align: right;\n    }\n</style>\n<table border=\"1\" class=\"dataframe\">\n  <thead>\n    <tr style=\"text-align: right;\">\n      <th></th>\n      <th>id</th>\n      <th>comment_text</th>\n      <th>toxic</th>\n      <th>severe_toxic</th>\n      <th>obscene</th>\n      <th>threat</th>\n      <th>insult</th>\n      <th>identity_hate</th>\n    </tr>\n  </thead>\n  <tbody>\n    <tr>\n      <th>56563</th>\n      <td>9715b0b10b11cdd3</td>\n      <td>I know  it's more like I don't appereciate it ...</td>\n      <td>0</td>\n      <td>0</td>\n      <td>0</td>\n      <td>0</td>\n      <td>0</td>\n      <td>0</td>\n    </tr>\n    <tr>\n      <th>97499</th>\n      <td>09a4228af625232a</td>\n      <td>Recipients of the Lithuanian National Prize\\r\\...</td>\n      <td>0</td>\n      <td>0</td>\n      <td>0</td>\n      <td>0</td>\n      <td>0</td>\n      <td>0</td>\n    </tr>\n    <tr>\n      <th>1005</th>\n      <td>02bc73f81346f703</td>\n      <td>Perhaps you should better do self a better job...</td>\n      <td>0</td>\n      <td>0</td>\n      <td>0</td>\n      <td>0</td>\n      <td>0</td>\n      <td>0</td>\n    </tr>\n  </tbody>\n</table>\n</div>"
     },
     "metadata": {},
     "output_type": "display_data"
    },
    {
     "name": "stdout",
     "output_type": "stream",
     "text": [
      "['id', 'comment_text', 'toxic', 'severe_toxic', 'obscene', 'threat', 'insult', 'identity_hate']\n"
     ]
    }
   ],
   "source": [
    "import random\n",
    "\n",
    "N=list(range(len(train)))\n",
    "random.seed(2023)\n",
    "random.shuffle(N)\n",
    "train=train.iloc[N[0:10000]]\n",
    "display(train[0:3])\n",
    "print(train.columns.tolist())\n",
    "class_names=['No','Yes']"
   ],
   "metadata": {
    "collapsed": false
   }
  },
  {
   "cell_type": "code",
   "execution_count": 60,
   "outputs": [],
   "source": [
    "from sklearn.model_selection import train_test_split\n",
    "train, test = train_test_split(train, test_size=0.2, random_state=42)"
   ],
   "metadata": {
    "collapsed": false
   }
  },
  {
   "cell_type": "code",
   "execution_count": 61,
   "outputs": [
    {
     "name": "stdout",
     "output_type": "stream",
     "text": [
      "{'again', \"doesn't\", 'out', \"needn't\", 'before', 'were', 'does', 'she', 'other', 'such', 'off', 'just', 'that', 'why', 'some', 'u', 'which', 'by', 'shouldn', 'in', 's', 'with', 'll', 'me', 'herself', \"hadn't\", 'yours', 'theirs', \"shan't\", 'what', 'once', 'down', \"you'll\", 'its', 'hers', 'there', 'am', 'we', 'it', 'this', 'won', 'as', 'i', 'above', 'own', 'yourselves', 'wasn', \"should've\", 'don', 'below', 'where', 'aren', 'ours', \"you'd\", \"shouldn't\", \"mightn't\", 'd', 'didn', \"she's\", 'have', 'couldn', 'more', 'themselves', 'now', 'very', 'few', 'ourselves', 'can', \"wouldn't\", 'our', \"it's\", 'y', \"aren't\", 'under', 'is', 'him', 'to', 'each', 'here', 'mightn', 'any', 'o', 'than', 'hasn', 'and', 'you', 're', 'those', 'so', \"hasn't\", \"you're\", \"weren't\", 'yourself', 'having', 'im', 'no', 'same', 'the', 'during', 'nor', 'against', 'are', 'itself', 'needn', 'they', 'c', 'should', 'on', 'your', 'haven', 'only', 'be', 'been', 'both', \"wasn't\", 'ma', 'not', 'weren', 'has', 'my', 'do', 'too', 'when', 'through', 'whom', 'most', 'he', 'mustn', \"won't\", 'about', 'if', 'until', 'being', 'doing', 'over', 'was', 'an', 'up', 'had', 'but', 've', \"don't\", 'doesn', 'from', 'isn', 'their', 'of', 'hadn', 'for', 'shan', 'himself', \"mustn't\", 'ain', 'his', 'will', 'all', 'after', 'further', 'a', 'into', \"haven't\", 'while', \"couldn't\", 'myself', \"didn't\", 'did', 'these', 'how', \"you've\", 'between', 'because', 'or', 'then', 't', 'them', 'at', \"that'll\", 'wouldn', 'who', 'm', 'her', \"isn't\"}\n"
     ]
    },
    {
     "data": {
      "text/plain": "                      id                                       comment_text  \\\n84569   e2426864d64a35ed  Please do not add nonsense to Wikipedia. It is...   \n63586   aa25e67563f8fda8  Why is okay for subject to substantially contr...   \n62666   a7b09d6f99d3a768  This is a very big part of Porsche's history t...   \n120590  8518ed74c778a274  It's not a good article, doesn't matter what t...   \n108481  43f879832b485266  October 2007 (UTC)\\r\\nI didn't know they let o...   \n119507  7ee9d30e23b8bbca  \"\\r\\n\\r\\nSpeedy deletion of Anna Hutchison\\r\\n...   \n35394   5e84a2a70300ef8b  Please do not add inappropriate external links...   \n144015  0667f1ed1f0dca4e          I'm denying BLP violations.99.141.241.135   \n121019  8777f4b2809f4938  \"\\r\\n\\r\\n Surnames of allegèdly Bukhar[i]an Je...   \n50602   874c6d2db722ed23  \"\\r\\n====\\r\\nsee: A mystical view of the resur...   \n\n        toxic  severe_toxic  obscene  threat  insult  identity_hate  \\\n84569       0             0        0       0       0              0   \n63586       0             0        0       0       0              0   \n62666       0             0        0       0       0              0   \n120590      0             0        0       0       0              0   \n108481      0             0        0       0       0              0   \n119507      0             0        0       0       0              0   \n35394       0             0        0       0       0              0   \n144015      0             0        0       0       0              0   \n121019      0             0        0       0       0              0   \n50602       0             0        0       0       0              0   \n\n                                               clean_text  \n84569   please add nonsense wikipedia considered vanda...  \n63586   okay subject substantially contribute bio seri...  \n62666   big part porsches history cannot overlooked su...  \n120590  good article doesnt matter people want doesnt ...  \n108481  october utc didnt know let old ladies offshore...  \n119507  speedy deletion anna hutchison tag placed anna...  \n35394   please add inappropriate external links wikipe...  \n144015                                        denying blp  \n121019  surnames alleg dly bukharan jews one mystified...  \n50602   see mystical view resurrection dead within jud...  ",
      "text/html": "<div>\n<style scoped>\n    .dataframe tbody tr th:only-of-type {\n        vertical-align: middle;\n    }\n\n    .dataframe tbody tr th {\n        vertical-align: top;\n    }\n\n    .dataframe thead th {\n        text-align: right;\n    }\n</style>\n<table border=\"1\" class=\"dataframe\">\n  <thead>\n    <tr style=\"text-align: right;\">\n      <th></th>\n      <th>id</th>\n      <th>comment_text</th>\n      <th>toxic</th>\n      <th>severe_toxic</th>\n      <th>obscene</th>\n      <th>threat</th>\n      <th>insult</th>\n      <th>identity_hate</th>\n      <th>clean_text</th>\n    </tr>\n  </thead>\n  <tbody>\n    <tr>\n      <th>84569</th>\n      <td>e2426864d64a35ed</td>\n      <td>Please do not add nonsense to Wikipedia. It is...</td>\n      <td>0</td>\n      <td>0</td>\n      <td>0</td>\n      <td>0</td>\n      <td>0</td>\n      <td>0</td>\n      <td>please add nonsense wikipedia considered vanda...</td>\n    </tr>\n    <tr>\n      <th>63586</th>\n      <td>aa25e67563f8fda8</td>\n      <td>Why is okay for subject to substantially contr...</td>\n      <td>0</td>\n      <td>0</td>\n      <td>0</td>\n      <td>0</td>\n      <td>0</td>\n      <td>0</td>\n      <td>okay subject substantially contribute bio seri...</td>\n    </tr>\n    <tr>\n      <th>62666</th>\n      <td>a7b09d6f99d3a768</td>\n      <td>This is a very big part of Porsche's history t...</td>\n      <td>0</td>\n      <td>0</td>\n      <td>0</td>\n      <td>0</td>\n      <td>0</td>\n      <td>0</td>\n      <td>big part porsches history cannot overlooked su...</td>\n    </tr>\n    <tr>\n      <th>120590</th>\n      <td>8518ed74c778a274</td>\n      <td>It's not a good article, doesn't matter what t...</td>\n      <td>0</td>\n      <td>0</td>\n      <td>0</td>\n      <td>0</td>\n      <td>0</td>\n      <td>0</td>\n      <td>good article doesnt matter people want doesnt ...</td>\n    </tr>\n    <tr>\n      <th>108481</th>\n      <td>43f879832b485266</td>\n      <td>October 2007 (UTC)\\r\\nI didn't know they let o...</td>\n      <td>0</td>\n      <td>0</td>\n      <td>0</td>\n      <td>0</td>\n      <td>0</td>\n      <td>0</td>\n      <td>october utc didnt know let old ladies offshore...</td>\n    </tr>\n    <tr>\n      <th>119507</th>\n      <td>7ee9d30e23b8bbca</td>\n      <td>\"\\r\\n\\r\\nSpeedy deletion of Anna Hutchison\\r\\n...</td>\n      <td>0</td>\n      <td>0</td>\n      <td>0</td>\n      <td>0</td>\n      <td>0</td>\n      <td>0</td>\n      <td>speedy deletion anna hutchison tag placed anna...</td>\n    </tr>\n    <tr>\n      <th>35394</th>\n      <td>5e84a2a70300ef8b</td>\n      <td>Please do not add inappropriate external links...</td>\n      <td>0</td>\n      <td>0</td>\n      <td>0</td>\n      <td>0</td>\n      <td>0</td>\n      <td>0</td>\n      <td>please add inappropriate external links wikipe...</td>\n    </tr>\n    <tr>\n      <th>144015</th>\n      <td>0667f1ed1f0dca4e</td>\n      <td>I'm denying BLP violations.99.141.241.135</td>\n      <td>0</td>\n      <td>0</td>\n      <td>0</td>\n      <td>0</td>\n      <td>0</td>\n      <td>0</td>\n      <td>denying blp</td>\n    </tr>\n    <tr>\n      <th>121019</th>\n      <td>8777f4b2809f4938</td>\n      <td>\"\\r\\n\\r\\n Surnames of allegèdly Bukhar[i]an Je...</td>\n      <td>0</td>\n      <td>0</td>\n      <td>0</td>\n      <td>0</td>\n      <td>0</td>\n      <td>0</td>\n      <td>surnames alleg dly bukharan jews one mystified...</td>\n    </tr>\n    <tr>\n      <th>50602</th>\n      <td>874c6d2db722ed23</td>\n      <td>\"\\r\\n====\\r\\nsee: A mystical view of the resur...</td>\n      <td>0</td>\n      <td>0</td>\n      <td>0</td>\n      <td>0</td>\n      <td>0</td>\n      <td>0</td>\n      <td>see mystical view resurrection dead within jud...</td>\n    </tr>\n  </tbody>\n</table>\n</div>"
     },
     "execution_count": 61,
     "metadata": {},
     "output_type": "execute_result"
    }
   ],
   "source": [
    "import string\n",
    "import re\n",
    "from nltk.corpus import stopwords\n",
    "\n",
    "stop_words = set(stopwords.words('english') + ['u', 'im', 'c'])\n",
    "\n",
    "def preprocess_text(sen):\n",
    "    sentence = sen.lower()\n",
    "    sentence = re.sub('\\[.*?\\]', '', sentence)\n",
    "    sentence = re.sub('https?://\\S+|www\\.\\S+', '', sentence)\n",
    "    sentence = re.sub('<.*?>+', '', sentence)\n",
    "    sentence = re.sub('[%s]' % re.escape(string.punctuation), '', sentence)\n",
    "    sentence = re.sub('\\n', '', sentence)\n",
    "    sentence = re.sub('\\w*\\d\\w*', '', sentence)\n",
    "    sentence = sentence.strip()\n",
    "    # Удаление символов пунктуации и специальных символов\n",
    "    sentence = re.sub('[^a-zA-Z0-9]', ' ', sentence)\n",
    "    # Заменяем любые пробелы на один обычный\n",
    "    sentence = re.sub(r'\\s+', ' ', sentence)\n",
    "    # Делаем всё в нижнем регистре\n",
    "    sentence = sentence.lower()\n",
    "    # Удаляем стоп-слова\n",
    "    sentence = \" \".join([word for word in sentence.split() if word not in stop_words])\n",
    "    return sentence\n",
    "\n",
    "train['clean_text'] = train['comment_text'].apply(preprocess_text)\n",
    "test['clean_text'] = test['comment_text'].apply(preprocess_text)\n",
    "#\n",
    "# filtered_train = train['comment_text'].apply(preprocess_text)\n",
    "# filtered_test = test['comment_text'].apply(preprocess_text)\n",
    "\n",
    "print(stop_words)\n",
    "\n",
    "train.head(10)"
   ],
   "metadata": {
    "collapsed": false
   }
  },
  {
   "cell_type": "code",
   "execution_count": 62,
   "outputs": [],
   "source": [
    "def remove_stopwords(text):\n",
    "    words = text.split(' ')\n",
    "    words = [word for word in words if word not in stop_words]\n",
    "    text = ' '.join(words)\n",
    "    return text\n",
    "\n",
    "train['clean_text'] = train['clean_text'].apply(remove_stopwords)\n",
    "test['clean_text'] = test['clean_text'].apply(remove_stopwords)"
   ],
   "metadata": {
    "collapsed": false
   }
  },
  {
   "cell_type": "code",
   "execution_count": 63,
   "outputs": [
    {
     "data": {
      "text/plain": "                      id                                       comment_text  \\\n84569   e2426864d64a35ed  Please do not add nonsense to Wikipedia. It is...   \n63586   aa25e67563f8fda8  Why is okay for subject to substantially contr...   \n62666   a7b09d6f99d3a768  This is a very big part of Porsche's history t...   \n120590  8518ed74c778a274  It's not a good article, doesn't matter what t...   \n108481  43f879832b485266  October 2007 (UTC)\\r\\nI didn't know they let o...   \n119507  7ee9d30e23b8bbca  \"\\r\\n\\r\\nSpeedy deletion of Anna Hutchison\\r\\n...   \n35394   5e84a2a70300ef8b  Please do not add inappropriate external links...   \n144015  0667f1ed1f0dca4e          I'm denying BLP violations.99.141.241.135   \n121019  8777f4b2809f4938  \"\\r\\n\\r\\n Surnames of allegèdly Bukhar[i]an Je...   \n50602   874c6d2db722ed23  \"\\r\\n====\\r\\nsee: A mystical view of the resur...   \n\n        toxic  severe_toxic  obscene  threat  insult  identity_hate  \\\n84569       0             0        0       0       0              0   \n63586       0             0        0       0       0              0   \n62666       0             0        0       0       0              0   \n120590      0             0        0       0       0              0   \n108481      0             0        0       0       0              0   \n119507      0             0        0       0       0              0   \n35394       0             0        0       0       0              0   \n144015      0             0        0       0       0              0   \n121019      0             0        0       0       0              0   \n50602       0             0        0       0       0              0   \n\n                                               clean_text  \n84569   please add nonsense wikipedia considered vanda...  \n63586   okay subject substantially contribute bio seri...  \n62666   big part porsches history cannot overlooked su...  \n120590  good article doesnt matter people want doesnt ...  \n108481  october utc didnt know let old ladies offshore...  \n119507  speedy deletion anna hutchison tag placed anna...  \n35394   please add inappropriate external links wikipe...  \n144015                                        denying blp  \n121019  surnames alleg dly bukharan jews one mystified...  \n50602   see mystical view resurrection dead within jud...  ",
      "text/html": "<div>\n<style scoped>\n    .dataframe tbody tr th:only-of-type {\n        vertical-align: middle;\n    }\n\n    .dataframe tbody tr th {\n        vertical-align: top;\n    }\n\n    .dataframe thead th {\n        text-align: right;\n    }\n</style>\n<table border=\"1\" class=\"dataframe\">\n  <thead>\n    <tr style=\"text-align: right;\">\n      <th></th>\n      <th>id</th>\n      <th>comment_text</th>\n      <th>toxic</th>\n      <th>severe_toxic</th>\n      <th>obscene</th>\n      <th>threat</th>\n      <th>insult</th>\n      <th>identity_hate</th>\n      <th>clean_text</th>\n    </tr>\n  </thead>\n  <tbody>\n    <tr>\n      <th>84569</th>\n      <td>e2426864d64a35ed</td>\n      <td>Please do not add nonsense to Wikipedia. It is...</td>\n      <td>0</td>\n      <td>0</td>\n      <td>0</td>\n      <td>0</td>\n      <td>0</td>\n      <td>0</td>\n      <td>please add nonsense wikipedia considered vanda...</td>\n    </tr>\n    <tr>\n      <th>63586</th>\n      <td>aa25e67563f8fda8</td>\n      <td>Why is okay for subject to substantially contr...</td>\n      <td>0</td>\n      <td>0</td>\n      <td>0</td>\n      <td>0</td>\n      <td>0</td>\n      <td>0</td>\n      <td>okay subject substantially contribute bio seri...</td>\n    </tr>\n    <tr>\n      <th>62666</th>\n      <td>a7b09d6f99d3a768</td>\n      <td>This is a very big part of Porsche's history t...</td>\n      <td>0</td>\n      <td>0</td>\n      <td>0</td>\n      <td>0</td>\n      <td>0</td>\n      <td>0</td>\n      <td>big part porsches history cannot overlooked su...</td>\n    </tr>\n    <tr>\n      <th>120590</th>\n      <td>8518ed74c778a274</td>\n      <td>It's not a good article, doesn't matter what t...</td>\n      <td>0</td>\n      <td>0</td>\n      <td>0</td>\n      <td>0</td>\n      <td>0</td>\n      <td>0</td>\n      <td>good article doesnt matter people want doesnt ...</td>\n    </tr>\n    <tr>\n      <th>108481</th>\n      <td>43f879832b485266</td>\n      <td>October 2007 (UTC)\\r\\nI didn't know they let o...</td>\n      <td>0</td>\n      <td>0</td>\n      <td>0</td>\n      <td>0</td>\n      <td>0</td>\n      <td>0</td>\n      <td>october utc didnt know let old ladies offshore...</td>\n    </tr>\n    <tr>\n      <th>119507</th>\n      <td>7ee9d30e23b8bbca</td>\n      <td>\"\\r\\n\\r\\nSpeedy deletion of Anna Hutchison\\r\\n...</td>\n      <td>0</td>\n      <td>0</td>\n      <td>0</td>\n      <td>0</td>\n      <td>0</td>\n      <td>0</td>\n      <td>speedy deletion anna hutchison tag placed anna...</td>\n    </tr>\n    <tr>\n      <th>35394</th>\n      <td>5e84a2a70300ef8b</td>\n      <td>Please do not add inappropriate external links...</td>\n      <td>0</td>\n      <td>0</td>\n      <td>0</td>\n      <td>0</td>\n      <td>0</td>\n      <td>0</td>\n      <td>please add inappropriate external links wikipe...</td>\n    </tr>\n    <tr>\n      <th>144015</th>\n      <td>0667f1ed1f0dca4e</td>\n      <td>I'm denying BLP violations.99.141.241.135</td>\n      <td>0</td>\n      <td>0</td>\n      <td>0</td>\n      <td>0</td>\n      <td>0</td>\n      <td>0</td>\n      <td>denying blp</td>\n    </tr>\n    <tr>\n      <th>121019</th>\n      <td>8777f4b2809f4938</td>\n      <td>\"\\r\\n\\r\\n Surnames of allegèdly Bukhar[i]an Je...</td>\n      <td>0</td>\n      <td>0</td>\n      <td>0</td>\n      <td>0</td>\n      <td>0</td>\n      <td>0</td>\n      <td>surnames alleg dly bukharan jews one mystified...</td>\n    </tr>\n    <tr>\n      <th>50602</th>\n      <td>874c6d2db722ed23</td>\n      <td>\"\\r\\n====\\r\\nsee: A mystical view of the resur...</td>\n      <td>0</td>\n      <td>0</td>\n      <td>0</td>\n      <td>0</td>\n      <td>0</td>\n      <td>0</td>\n      <td>see mystical view resurrection dead within jud...</td>\n    </tr>\n  </tbody>\n</table>\n</div>"
     },
     "execution_count": 63,
     "metadata": {},
     "output_type": "execute_result"
    }
   ],
   "source": [
    "train.head(10)"
   ],
   "metadata": {
    "collapsed": false
   }
  },
  {
   "cell_type": "code",
   "execution_count": 71,
   "outputs": [
    {
     "name": "stdout",
     "output_type": "stream",
     "text": [
      "(8000, 31617) (2000, 31617)\n"
     ]
    }
   ],
   "source": [
    "from sklearn.feature_extraction.text import CountVectorizer, TfidfVectorizer\n",
    "vectorizer = TfidfVectorizer()\n",
    "\n",
    "trainXV = vectorizer.fit_transform(train['clean_text'])\n",
    "trainY = train['toxic']\n",
    "\n",
    "testXV = vectorizer.transform(test['clean_text'])\n",
    "testY = test['toxic']\n",
    "print(trainXV.shape,testXV.shape)"
   ],
   "metadata": {
    "collapsed": false
   }
  },
  {
   "cell_type": "code",
   "execution_count": 73,
   "outputs": [
    {
     "name": "stdout",
     "output_type": "stream",
     "text": [
      "<class 'scipy.sparse._csr.csr_matrix'> <class 'pandas.core.frame.DataFrame'>\n"
     ]
    }
   ],
   "source": [
    "trainX = pd.DataFrame(trainXV.toarray(), columns=vectorizer.get_feature_names_out())\n",
    "testX = pd.DataFrame(testXV.toarray(), columns=vectorizer.get_feature_names_out())\n",
    "print(type(trainXV),type(trainX))"
   ],
   "metadata": {
    "collapsed": false
   }
  },
  {
   "cell_type": "code",
   "execution_count": 74,
   "outputs": [],
   "source": [
    "train=(trainX,trainY)\n",
    "test=(testX,testY)"
   ],
   "metadata": {
    "collapsed": false
   }
  }
 ],
 "metadata": {
  "kernelspec": {
   "display_name": "Python 3",
   "language": "python",
   "name": "python3"
  },
  "language_info": {
   "codemirror_mode": {
    "name": "ipython",
    "version": 2
   },
   "file_extension": ".py",
   "mimetype": "text/x-python",
   "name": "python",
   "nbconvert_exporter": "python",
   "pygments_lexer": "ipython2",
   "version": "2.7.6"
  }
 },
 "nbformat": 4,
 "nbformat_minor": 0
}
