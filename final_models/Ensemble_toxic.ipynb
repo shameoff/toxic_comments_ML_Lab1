{
 "cells": [
  {
   "cell_type": "markdown",
   "source": [
    "Collect all result in ensemble"
   ],
   "metadata": {
    "collapsed": false
   }
  },
  {
   "cell_type": "code",
   "execution_count": 1,
   "id": "40dd5a67",
   "metadata": {},
   "outputs": [],
   "source": [
    "import pandas as pd"
   ]
  },
  {
   "cell_type": "code",
   "execution_count": 2,
   "id": "5fcbb241",
   "metadata": {},
   "outputs": [],
   "source": [
    "glove_twitter_42B_300d = pd.read_csv('submission_glove_twitter_27B_200d.csv')\n",
    "glove_twitter_42B_300d.drop(['id'],axis=1,inplace=True)"
   ]
  },
  {
   "cell_type": "code",
   "execution_count": 3,
   "id": "e80e7233",
   "metadata": {},
   "outputs": [],
   "source": [
    "glove_840B_300d = pd.read_csv('submission_glove_840B_300d.csv')\n",
    "glove_840B_300d.drop(['id'],axis=1,inplace=True)"
   ]
  },
  {
   "cell_type": "code",
   "execution_count": 4,
   "id": "7fa811fa",
   "metadata": {},
   "outputs": [],
   "source": [
    "GloVe_Reddit_120B_300D = pd.read_csv('submission_GloVe_Reddit_120B_300D_2.csv')\n",
    "GloVe_Reddit_120B_300D.drop(['id'],axis=1,inplace=True)"
   ]
  },
  {
   "cell_type": "code",
   "execution_count": 5,
   "id": "b7c38794",
   "metadata": {},
   "outputs": [],
   "source": [
    "wiki_en_align_vec = pd.read_csv('submission_wiki_en_align_vec.csv')\n",
    "wiki_en_align_vec.drop(['id'],axis=1,inplace=True)"
   ]
  },
  {
   "cell_type": "code",
   "execution_count": 6,
   "id": "8991418d",
   "metadata": {},
   "outputs": [],
   "source": [
    "cord19_300d = pd.read_csv('submission_cord19-300d.csv')\n",
    "cord19_300d.drop(['id'],axis=1,inplace=True)"
   ]
  },
  {
   "cell_type": "code",
   "execution_count": 7,
   "id": "6c7c77d1",
   "metadata": {},
   "outputs": [],
   "source": [
    "GloVe_Reddit_120B_768D_2 = pd.read_csv('submission_GloVe_Reddit_120B_768D_2.csv')\n",
    "GloVe_Reddit_120B_768D_2.drop(['id'],axis=1,inplace=True)"
   ]
  },
  {
   "cell_type": "code",
   "execution_count": 8,
   "id": "087094a7",
   "metadata": {},
   "outputs": [],
   "source": [
    "glove_6B_100d = pd.read_csv('submission_glove_6B_100d.csv')\n",
    "glove_6B_100d.drop(['id'],axis=1,inplace=True)"
   ]
  },
  {
   "cell_type": "code",
   "execution_count": 9,
   "id": "1edfb6fc",
   "metadata": {},
   "outputs": [],
   "source": [
    "glove_twitter_27B_200d = pd.read_csv('submission_glove_twitter_27B_200d.csv')\n",
    "glove_twitter_27B_200d.drop(['id'],axis=1,inplace=True)"
   ]
  },
  {
   "cell_type": "code",
   "execution_count": 10,
   "id": "53c003f2",
   "metadata": {},
   "outputs": [],
   "source": [
    "xgboost_toxic_cat_xgb_glovestm = pd.read_csv('submission_xgboost_toxic_cat_xgb_glovestm.csv')\n",
    "xgboost_toxic_cat_xgb_glovestm.drop(['id'],axis=1,inplace=True)"
   ]
  },
  {
   "cell_type": "code",
   "execution_count": 11,
   "id": "72afe0b1",
   "metadata": {},
   "outputs": [],
   "source": [
    "crawl_300d_2M = pd.read_csv('submission_crawl_300d_2M.csv')\n",
    "crawl_300d_2M.drop(['id'],axis=1,inplace=True)"
   ]
  },
  {
   "cell_type": "code",
   "execution_count": 12,
   "id": "4e273888",
   "metadata": {},
   "outputs": [],
   "source": [
    "glove_6B_100d = pd.read_csv('submission_glove_6B_100d.csv')\n",
    "glove_6B_100d(['id'],axis=1,inplace=True)"
   ]
  },
  {
   "cell_type": "code",
   "execution_count": 13,
   "id": "12d9b9da",
   "metadata": {},
   "outputs": [],
   "source": [
    "final = glove_twitter_42B_300d + glove_840B_300d + GloVe_Reddit_120B_300D + wiki_en_align_vec + cord19_300d + GloVe_Reddit_120B_768D_2 + glove_6B_100d + glove_twitter_27B_200d + xgboost_toxic_cat_xgb_glovestm + crawl_300d_2M + glove_6B_100d"
   ]
  },
  {
   "cell_type": "code",
   "execution_count": null,
   "id": "27196fc5",
   "metadata": {},
   "outputs": [],
   "source": [
    "columns_toxic = ['toxic', 'severe_toxic', 'obscene', 'threat', 'insult', 'identity_hate']\n",
    "\n",
    "submission_samples = pd.read_csv('../data/sample_submission.csv')\n",
    "sample_submission_id = pd.DataFrame({'id': submission_samples[\"id\"]})\n",
    "submission_output = pd.concat([sample_submission_id, pd.DataFrame(final, columns = columns_toxic)], axis=1)\n",
    "\n",
    "submission_output.to_csv('./submission_final.csv', index=False)"
   ]
  }
 ],
 "metadata": {
  "kernelspec": {
   "display_name": "Python 3 (ipykernel)",
   "language": "python",
   "name": "python3"
  },
  "language_info": {
   "codemirror_mode": {
    "name": "ipython",
    "version": 3
   },
   "file_extension": ".py",
   "mimetype": "text/x-python",
   "name": "python",
   "nbconvert_exporter": "python",
   "pygments_lexer": "ipython3",
   "version": "3.10.10"
  }
 },
 "nbformat": 4,
 "nbformat_minor": 5
}
