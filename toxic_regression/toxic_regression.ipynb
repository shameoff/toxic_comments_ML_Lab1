{
 "cells": [
  {
   "cell_type": "code",
   "execution_count": 4,
   "metadata": {
    "collapsed": true
   },
   "outputs": [],
   "source": [
    "import numpy as np\n",
    "import pandas as pd\n",
    "from sklearn.feature_extraction.text import TfidfVectorizer\n",
    "from sklearn.linear_model import LogisticRegression\n",
    "from sklearn.metrics import roc_auc_score"
   ]
  },
  {
   "cell_type": "code",
   "execution_count": 5,
   "outputs": [],
   "source": [
    "import warnings\n",
    "warnings.filterwarnings('ignore')"
   ],
   "metadata": {
    "collapsed": false
   }
  },
  {
   "cell_type": "code",
   "execution_count": 6,
   "outputs": [],
   "source": [
    "train = pd.read_csv('./data_toxic_regression/train.csv')\n",
    "test = pd.read_csv('./data_toxic_regression/test.csv')\n",
    "sample_submission = pd.read_csv('./data_toxic_regression/sample_submission.csv')"
   ],
   "metadata": {
    "collapsed": false
   }
  },
  {
   "cell_type": "code",
   "execution_count": 7,
   "outputs": [],
   "source": [
    "df = pd.concat([train['comment_text'], test['comment_text']], axis=0)\n",
    "df = df.fillna(\"unknown\")\n",
    "nrow_train = train.shape[0]\n",
    "\n",
    "vectorizer = TfidfVectorizer(stop_words='english', max_features=50000)\n",
    "X = vectorizer.fit_transform(df)\n",
    "\n",
    "col = ['toxic', 'severe_toxic', 'obscene', 'threat', 'insult', 'identity_hate']\n",
    "\n",
    "preds = np.zeros((test.shape[0], len(col)))"
   ],
   "metadata": {
    "collapsed": false
   }
  },
  {
   "cell_type": "code",
   "execution_count": 8,
   "outputs": [
    {
     "name": "stdout",
     "output_type": "stream",
     "text": [
      "===Fit toxic\n",
      "ROC AUC: 0.9840078635569363\n",
      "===Fit severe_toxic\n",
      "ROC AUC: 0.9922876067203097\n",
      "===Fit obscene\n",
      "ROC AUC: 0.9930288209490679\n",
      "===Fit threat\n",
      "ROC AUC: 0.9952588847863963\n",
      "===Fit insult\n",
      "ROC AUC: 0.9873622174227361\n",
      "===Fit identity_hate\n",
      "ROC AUC: 0.9900230119956406\n",
      "mean column-wise ROC AUC: 0.9903280675718479\n"
     ]
    }
   ],
   "source": [
    "loss = []\n",
    "\n",
    "for i, j in enumerate(col):\n",
    "    print('===Fit '+j)\n",
    "    model = LogisticRegression()\n",
    "    model.fit(X[:nrow_train], train[j])\n",
    "    preds[:,i] = model.predict_proba(X[nrow_train:])[:,1]\n",
    "\n",
    "    pred_train = model.predict_proba(X[:nrow_train])[:,1]\n",
    "    print('ROC AUC:', roc_auc_score(train[j], pred_train))\n",
    "    loss.append(roc_auc_score(train[j], pred_train))\n",
    "\n",
    "print('mean column-wise ROC AUC:', np.mean(loss))"
   ],
   "metadata": {
    "collapsed": false
   }
  },
  {
   "cell_type": "code",
   "execution_count": 10,
   "outputs": [],
   "source": [
    "submission_samples = pd.read_csv('../data/sample_submission.csv')\n",
    "sample_submission_id = pd.DataFrame({'id': sample_submission[\"id\"]})\n",
    "submission = pd.concat([sample_submission, pd.DataFrame(preds, columns = col)], axis=1)\n",
    "submission.to_csv('submission_7.csv', index=False)"
   ],
   "metadata": {
    "collapsed": false
   }
  },
  {
   "cell_type": "code",
   "execution_count": 9,
   "outputs": [],
   "source": [
    "# submission_samples = pd.read_csv('../data/sample_submission.csv')\n",
    "# sample_submission_id = pd.DataFrame({'id': submission_samples[\"id\"]})\n",
    "# submission_output = pd.concat([sample_submission_id, pd.DataFrame(predictions, columns = columns_toxic)], axis=1)\n",
    "# submission_output.to_csv('submission_6.csv', index=False)"
   ],
   "metadata": {
    "collapsed": false
   }
  }
 ],
 "metadata": {
  "kernelspec": {
   "display_name": "Python 3",
   "language": "python",
   "name": "python3"
  },
  "language_info": {
   "codemirror_mode": {
    "name": "ipython",
    "version": 2
   },
   "file_extension": ".py",
   "mimetype": "text/x-python",
   "name": "python",
   "nbconvert_exporter": "python",
   "pygments_lexer": "ipython2",
   "version": "2.7.6"
  }
 },
 "nbformat": 4,
 "nbformat_minor": 0
}
